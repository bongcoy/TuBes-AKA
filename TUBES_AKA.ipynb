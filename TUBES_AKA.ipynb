{
  "nbformat": 4,
  "nbformat_minor": 0,
  "metadata": {
    "colab": {
      "name": "TUBES AKA.ipynb",
      "provenance": [],
      "collapsed_sections": [],
      "include_colab_link": true
    },
    "kernelspec": {
      "name": "python3",
      "display_name": "Python 3"
    },
    "language_info": {
      "name": "python"
    }
  },
  "cells": [
    {
      "cell_type": "markdown",
      "metadata": {
        "id": "view-in-github",
        "colab_type": "text"
      },
      "source": [
        "<a href=\"https://colab.research.google.com/github/bongcoy/TuBes-AKA/blob/main/TUBES_AKA.ipynb\" target=\"_parent\"><img src=\"https://colab.research.google.com/assets/colab-badge.svg\" alt=\"Open In Colab\"/></a>"
      ]
    },
    {
      "cell_type": "markdown",
      "source": [
        "# Tugas Besar Analitas Kompleksitas Algoritma\n",
        "Analisis algoritma bubble sort\n",
        "\n",
        "\n",
        "Analisis algoritma selection sort\n",
        "\n",
        "\n",
        "---\n",
        "Anggota Kelompok :\n",
        "\n",
        "\n",
        "1.   Denny Sofyan (1301204036)\n",
        "2.   Muhammad Pascal Dewantara (1301204499)\n"
      ],
      "metadata": {
        "id": "TWCTkh79LDMU"
      }
    },
    {
      "cell_type": "markdown",
      "source": [
        "# Source Code (Bubble Sort)\n",
        "Pengurutan 10 bilangan acak\n",
        "\n"
      ],
      "metadata": {
        "id": "jZPRNGcRrgiG"
      }
    },
    {
      "cell_type": "code",
      "source": [
        "def bubbleSort(arr):\n",
        "\tn = len(arr)\n",
        "\tswapped = True\n",
        "\ti=0\n",
        "\tj=0\n",
        "\n",
        "\twhile i < n-1 and swapped :\n",
        "\t\tswapped = False\n",
        "\n",
        "\t\tfor j in range(0, n-i-1):\n",
        "\t\t\tif arr[j] > arr[j + 1] :\n",
        "\t\t\t\ttemp = arr[j]\n",
        "\t\t\t\tarr[j] = arr[j+1]\n",
        "\t\t\t\tarr[j+1] = temp\n",
        "\n",
        "\t\t\t\tswapped = True"
      ],
      "metadata": {
        "id": "axtQmDjniC7M"
      },
      "execution_count": null,
      "outputs": []
    },
    {
      "cell_type": "code",
      "source": [
        "arr = [64, 34, 25, 12, 22, 11, 90, 32, 32, 73]\n",
        "bubbleSort(arr)"
      ],
      "metadata": {
        "id": "WLy7gSJ7AaT8"
      },
      "execution_count": null,
      "outputs": []
    },
    {
      "cell_type": "code",
      "source": [
        "print (\"Sorted array is:\")\n",
        "for i in range(len(arr)):\n",
        "\tprint(arr[i],end=\" \")"
      ],
      "metadata": {
        "id": "ndN6-2e5AeEz",
        "colab": {
          "base_uri": "https://localhost:8080/"
        },
        "outputId": "ec26121f-b1e9-4230-ff5c-7ad31d96d18d"
      },
      "execution_count": null,
      "outputs": [
        {
          "output_type": "stream",
          "name": "stdout",
          "text": [
            "Sorted array is:\n",
            "2 3 5 6 7 11 12 13 19 24 "
          ]
        }
      ]
    },
    {
      "cell_type": "markdown",
      "source": [
        "# Source Code (Merge Sort"
      ],
      "metadata": {
        "id": "qSspkWfsErTh"
      }
    },
    {
      "cell_type": "code",
      "source": [
        "def merge(arr, l, a, b): \n",
        "    n1 = a - l + 1\n",
        "    n2 = b- a \n",
        "  \n",
        "    # create temp arrays \n",
        "    L = [0] * (n1) \n",
        "    R = [0] * (n2) \n",
        "  \n",
        "    # Copy data to temp arrays L[] and R[] \n",
        "    for i in range(0 , n1): \n",
        "        L[i] = arr[l + i] \n",
        "  \n",
        "    for j in range(0 , n2): \n",
        "        R[j] = arr[a + 1 + j] \n",
        "  \n",
        "    # merge the temp arrays back into arr[l..b] \n",
        "    i = 0     # Initial index of first subarray \n",
        "    j = 0     # Initial index of second subarray \n",
        "    k = l     # Initial index of merged subarray \n",
        "  \n",
        "    while i < n1 and j < n2 : \n",
        "        if L[i] <= R[j]: \n",
        "            arr[k] = L[i] \n",
        "            i += 1\n",
        "        else: \n",
        "            arr[k] = R[j] \n",
        "            j += 1\n",
        "        k += 1\n",
        "  \n",
        "    # Copy the remaining elements of L[], if there  are any \n",
        "    \n",
        "    while i < n1: \n",
        "        arr[k] = L[i] \n",
        "        i += 1\n",
        "        k += 1\n",
        "  \n",
        "    # Copy the remaining elements of R[], if there areany\n",
        "\n",
        "    while j < n2: \n",
        "        arr[k] = R[j] \n",
        "        j += 1\n",
        "        k += 1"
      ],
      "metadata": {
        "id": "iZ0Q3kiB2xYP"
      },
      "execution_count": null,
      "outputs": []
    },
    {
      "cell_type": "code",
      "source": [
        "# l is for left index and r is right index of the \n",
        "def mergeSort(arr,l,b): \n",
        "    if l < b:   \n",
        "        # Same as (l+b)//2, but avoids overflow for \n",
        "        # large l and h \n",
        "        a = (l+(b-1))//2\n",
        "  \n",
        "        # Sort first and second halves \n",
        "        mergeSort(arr, l, a) \n",
        "        mergeSort(arr, a+1, b) \n",
        "        merge(arr, l, a, b) "
      ],
      "metadata": {
        "id": "sOcvTx9m21ku"
      },
      "execution_count": null,
      "outputs": []
    },
    {
      "cell_type": "code",
      "source": [
        "# Driver code \n",
        "arr = [32, 12, 9, 18, 3, 21, 47, 26] \n",
        "n = len(arr) \n",
        "print (\" Given Array \") \n",
        "for i in range(n): \n",
        "    print(arr[i], end=\" \")\n",
        "  \n",
        "mergeSort(arr,0,n-1)\n",
        "print (\"\\nSorted Array is\") \n",
        "for i in range(n): \n",
        "    print(arr[i], end=\" \") "
      ],
      "metadata": {
        "colab": {
          "base_uri": "https://localhost:8080/"
        },
        "id": "Y7B2p4Ez2j-4",
        "outputId": "c3f6812c-25e2-4fde-ab4e-6288f8353420"
      },
      "execution_count": null,
      "outputs": [
        {
          "output_type": "stream",
          "name": "stdout",
          "text": [
            " Given Array \n",
            "32 12 9 18 3 21 47 26 \n",
            "Sorted Array is\n",
            "3 9 12 18 21 26 32 47 "
          ]
        }
      ]
    }
  ]
}