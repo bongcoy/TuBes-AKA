{
  "nbformat": 4,
  "nbformat_minor": 0,
  "metadata": {
    "colab": {
      "name": "TUBES AKA.ipynb",
      "provenance": [],
      "collapsed_sections": [],
      "toc_visible": true,
      "include_colab_link": true
    },
    "kernelspec": {
      "name": "python3",
      "display_name": "Python 3"
    },
    "language_info": {
      "name": "python"
    }
  },
  "cells": [
    {
      "cell_type": "markdown",
      "metadata": {
        "id": "view-in-github",
        "colab_type": "text"
      },
      "source": [
        "<a href=\"https://colab.research.google.com/github/dennysofyan/TuBes-AKA/blob/main/TUBES_AKA.ipynb\" target=\"_parent\"><img src=\"https://colab.research.google.com/assets/colab-badge.svg\" alt=\"Open In Colab\"/></a>"
      ]
    },
    {
      "cell_type": "markdown",
      "source": [
        "# Tugas Besar Analitas Kompleksitas Algoritma\n",
        "Analisis algoritma bubble sort\n",
        "\n",
        "\n",
        "Analisis algoritma selection sort\n",
        "\n",
        "\n",
        "---\n",
        "Anggota Kelompok :\n",
        "\n",
        "\n",
        "1.   Denny Sofyan (1301204036)\n",
        "2.   Muhammad Pascal Dewantara (1301204499)\n"
      ],
      "metadata": {
        "id": "TWCTkh79LDMU"
      }
    },
    {
      "cell_type": "markdown",
      "source": [
        "# Source Code (Bubble Sort)\n",
        "Pengurutan 10 bilangan acak\n",
        "\n"
      ],
      "metadata": {
        "id": "jZPRNGcRrgiG"
      }
    },
    {
      "cell_type": "code",
      "source": [
        "def bubbleSort(arr):\n",
        "\tn = len(arr)\n",
        "\tswapped = True\n",
        "\ti=0\n",
        "\tj=0\n",
        "\n",
        "\twhile i < n-1 and swapped :\n",
        "\t\tswapped = False\n",
        "\n",
        "\t\tfor j in range(0, n-i-1):\n",
        "\t\t\tif arr[j] > arr[j + 1] :\n",
        "\t\t\t\ttemp = arr[j]\n",
        "\t\t\t\tarr[j] = arr[j+1]\n",
        "\t\t\t\tarr[j+1] = temp\n",
        "\n",
        "\t\t\t\tswapped = True"
      ],
      "metadata": {
        "id": "axtQmDjniC7M"
      },
      "execution_count": null,
      "outputs": []
    },
    {
      "cell_type": "code",
      "source": [
        "arr = [64, 34, 25, 12, 22, 11, 90, 32, 32, 73]\n",
        "bubbleSort(arr)"
      ],
      "metadata": {
        "id": "WLy7gSJ7AaT8"
      },
      "execution_count": null,
      "outputs": []
    },
    {
      "cell_type": "code",
      "source": [
        "print (\"Sorted array is:\")\n",
        "for i in range(len(arr)):\n",
        "\tprint(arr[i],end=\" \")"
      ],
      "metadata": {
        "id": "ndN6-2e5AeEz",
        "colab": {
          "base_uri": "https://localhost:8080/"
        },
        "outputId": "cc395c6a-9908-4fd7-cea0-70f644b5ec32"
      },
      "execution_count": null,
      "outputs": [
        {
          "output_type": "stream",
          "name": "stdout",
          "text": [
            "Sorted array is:\n",
            "11 12 22 25 32 32 34 64 73 90 "
          ]
        }
      ]
    },
    {
      "cell_type": "markdown",
      "source": [
        "# Source Code (Merge Sort)\n",
        "Pengurutan 10 bilangan acak"
      ],
      "metadata": {
        "id": "8qUpXNAcPko_"
      }
    },
    {
      "cell_type": "markdown",
      "source": [
        "# New Section"
      ],
      "metadata": {
        "id": "qSspkWfsErTh"
      }
    },
    {
      "cell_type": "code",
      "source": [
        "def merge(arr, l, m, r):\n",
        "\tn1 = m - l + 1\n",
        "\tn2 = r - m\n",
        "\n",
        "\tL = [0] * (n1)\n",
        "\tR = [0] * (n2)\n",
        "\n",
        "\tfor i in range(0, n1):\n",
        "\t\tL[i] = arr[l + i]\n",
        "\n",
        "\tfor j in range(0, n2):\n",
        "\t\tR[j] = arr[m + 1 + j]\n",
        "\n",
        "\ti = 0\n",
        "\tj = 0\t\n",
        "\tk = l\n",
        "\n",
        "\twhile i < n1 and j < n2:\n",
        "\t\tif L[i] <= R[j]:\n",
        "\t\t\tarr[k] = L[i]\n",
        "\t\t\ti += 1\n",
        "\t\telse:\n",
        "\t\t\tarr[k] = R[j]\n",
        "\t\t\tj += 1\n",
        "\t\tk += 1\n",
        "\n",
        "\twhile i < n1:\n",
        "\t\tarr[k] = L[i]\n",
        "\t\ti += 1\n",
        "\t\tk += 1\n",
        "\n",
        "\twhile j < n2:\n",
        "\t\tarr[k] = R[j]\n",
        "\t\tj += 1\n",
        "\t\tk += 1\n",
        "\n",
        "def mergeSort(arr, l, r):\n",
        "\tif l < r:\n",
        "\t\tm = l+(r-l)//2\n",
        "\n",
        "\t\tmergeSort(arr, l, m)\n",
        "\t\tmergeSort(arr, m+1, r)\n",
        "\t\tmerge(arr, l, m, r)\n",
        "\n",
        "arr = [12, 11, 13, 5, 6, 7, 19, 3, 2, 24]\n",
        "n = len(arr)\n",
        "print(\"Given array is\")\n",
        "for i in range(n):\n",
        "\tprint(\"%d\" % arr[i])\n",
        "\n",
        "mergeSort(arr, 0, n-1)\n",
        "print(\"\\n\\nSorted array is\")\n",
        "for i in range(n):\n",
        "\tprint(\"%d\" % arr[i])"
      ],
      "metadata": {
        "id": "NHsKA9SyPyzX"
      },
      "execution_count": null,
      "outputs": []
    }
  ]
}